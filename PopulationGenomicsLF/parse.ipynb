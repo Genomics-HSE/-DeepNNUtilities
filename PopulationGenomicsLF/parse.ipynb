{
 "cells": [
  {
   "cell_type": "code",
   "execution_count": 10,
   "metadata": {},
   "outputs": [],
   "source": [
    "# RS  k t_k \\lambda_k \\pi_k \\sum_{l\\not=k}A_{kl} A_{kk}\n",
    "S = \"RS\t25\t0.632274\t1.000000\t201.836850\t0.031296\t0.000000\""
   ]
  },
  {
   "cell_type": "code",
   "execution_count": 11,
   "metadata": {},
   "outputs": [
    {
     "data": {
      "text/plain": [
       "[25.0, 0.632274, 1.0, 201.83685, 0.031296, 0.0]"
      ]
     },
     "execution_count": 11,
     "metadata": {},
     "output_type": "execute_result"
    }
   ],
   "source": [
    "[float(s) for s in S.split() if s[0].isdigit()]"
   ]
  },
  {
   "cell_type": "code",
   "execution_count": null,
   "metadata": {},
   "outputs": [],
   "source": []
  },
  {
   "cell_type": "code",
   "execution_count": null,
   "metadata": {},
   "outputs": [],
   "source": []
  },
  {
   "cell_type": "code",
   "execution_count": 10,
   "metadata": {},
   "outputs": [],
   "source": [
    "file=open('x1_20.psmc','r')\n",
    "previous_RS = False\n",
    "data = []\n",
    "dataPA = []\n",
    "for line in file:\n",
    "    if line[:2] == 'RS':\n",
    "        if not previous_RS:\n",
    "            data.append([])\n",
    "        data[-1].append(\n",
    "            [float(s) for s in line.split() if s[0].isdigit()]\n",
    "        )\n",
    "        previous_RS = True\n",
    "    elif line[:2] == 'PA':\n",
    "        dataPA.append(\n",
    "            [float(s) for s in line.split()[2:] if s[0].isdigit()]\n",
    "        )\n",
    "        previous_RS = False\n",
    "    else:\n",
    "        previous_RS = False\n"
   ]
  },
  {
   "cell_type": "code",
   "execution_count": 12,
   "metadata": {},
   "outputs": [
    {
     "data": {
      "text/plain": [
       "[0.001105384,\n",
       " 0.000140175,\n",
       " 11.040214692,\n",
       " 1.282682224,\n",
       " 1.10648705,\n",
       " 1.234432113,\n",
       " 0.60589519,\n",
       " 1.050033604,\n",
       " 0.990130868,\n",
       " 0.774239613,\n",
       " 0.695752128,\n",
       " 0.697368268,\n",
       " 0.710852237,\n",
       " 0.728083996,\n",
       " 0.704164064,\n",
       " 0.673421223,\n",
       " 0.721441252,\n",
       " 0.771866664,\n",
       " 0.660797212,\n",
       " 0.512207584,\n",
       " 0.393746011,\n",
       " 0.003522409,\n",
       " 5.1e-08]"
      ]
     },
     "execution_count": 12,
     "metadata": {},
     "output_type": "execute_result"
    }
   ],
   "source": [
    "dataPA[-1]"
   ]
  },
  {
   "cell_type": "code",
   "execution_count": 3,
   "metadata": {},
   "outputs": [
    {
     "data": {
      "text/plain": [
       "20"
      ]
     },
     "execution_count": 3,
     "metadata": {},
     "output_type": "execute_result"
    }
   ],
   "source": [
    "len(data[-1])"
   ]
  },
  {
   "cell_type": "code",
   "execution_count": 17,
   "metadata": {},
   "outputs": [
    {
     "data": {
      "text/plain": [
       "14.317123"
      ]
     },
     "execution_count": 17,
     "metadata": {},
     "output_type": "execute_result"
    }
   ],
   "source": [
    "d = [s[2] for s in data[-1]]\n",
    "sum_d = sum(d)\n",
    "sum_d"
   ]
  },
  {
   "cell_type": "code",
   "execution_count": 20,
   "metadata": {},
   "outputs": [
    {
     "data": {
      "text/plain": [
       "[0.08959076484849646,\n",
       " 0.07728417224605809,\n",
       " 0.08622067436313846,\n",
       " 0.0423196056917301,\n",
       " 0.07334113145497177,\n",
       " 0.069157120463378,\n",
       " 0.05407790377997032,\n",
       " 0.04859579679520809,\n",
       " 0.04870866863405448,\n",
       " 0.049650477962646544,\n",
       " 0.05085407172935512,\n",
       " 0.049183345005836716,\n",
       " 0.04703605605679297,\n",
       " 0.05039008186211713,\n",
       " 0.05391215818988214,\n",
       " 0.046154314662240445,\n",
       " 0.035775902742471374,\n",
       " 0.027501754367829343,\n",
       " 0.0002459991438224006,\n",
       " 0.0]"
      ]
     },
     "execution_count": 20,
     "metadata": {},
     "output_type": "execute_result"
    }
   ],
   "source": [
    "d_ = [s/sum_d for s in d]\n",
    "d_"
   ]
  },
  {
   "cell_type": "code",
   "execution_count": null,
   "metadata": {},
   "outputs": [],
   "source": []
  }
 ],
 "metadata": {
  "kernelspec": {
   "display_name": "Python 3",
   "language": "python",
   "name": "python3"
  },
  "language_info": {
   "codemirror_mode": {
    "name": "ipython",
    "version": 3
   },
   "file_extension": ".py",
   "mimetype": "text/x-python",
   "name": "python",
   "nbconvert_exporter": "python",
   "pygments_lexer": "ipython3",
   "version": "3.7.6"
  }
 },
 "nbformat": 4,
 "nbformat_minor": 4
}
