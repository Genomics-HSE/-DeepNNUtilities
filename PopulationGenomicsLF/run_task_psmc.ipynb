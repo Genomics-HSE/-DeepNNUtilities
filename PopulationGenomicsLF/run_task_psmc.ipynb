{
 "cells": [
  {
   "cell_type": "markdown",
   "metadata": {},
   "source": [
    "# Пример запуска задачи PSMC на кластере "
   ]
  },
  {
   "cell_type": "markdown",
   "metadata": {},
   "source": [
    "## команды запуска \n",
    "команда запуска задачи PSMC\n",
    "```\n",
    "./psmc -N20 -p 64*1 <(gunzip -c ~/psmc_analysis/data/genomes/64/x64_1.fa.gz)> ~/psmc_analysis/data/results/x64_1.psmc\n",
    "```\n",
    "команда запуска для выполнения одного процесса на кластере \n",
    "```\n",
    "sbatch -c 2 --wrap=\"/home/vavasileva3/psmc/psmc -p 12*1 /home/vavasileva3/task1/x12_0.fa > /home/vavasileva3/task1/x12_0.psmc\"\n",
    "```\n",
    "команда запуска, используя sbatch файл \n",
    "```\n",
    "sbatch run_task_single.sbatch \n",
    "```\n",
    "\n",
    "Подробнее о PSMC и параметрах команды запуска задачи PSMC можно узнать по [ссылке](https://github.com/lh3/psmc)."
   ]
  },
  {
   "cell_type": "markdown",
   "metadata": {},
   "source": [
    "## sbatch файл запуска одного процесса psmc с первым набором параметров\n",
    "\n",
    "**run_task_single.sbatch**\n",
    "```\n",
    "#!/bin/bash\n",
    "#SBATCH --job-name=psmc_task1\n",
    "#SBATCH --error=psmc_task-%j.err\n",
    "#SBATCH --output=psmc_task-%j.log\n",
    "#SBATCH --nodes=1\n",
    "#SBATCH -c 2\n",
    "\n",
    "PSMC_PATH=/home/vavasileva3/psmc\n",
    "\n",
    "DIR=/home/vavasileva3/task1\n",
    "\n",
    "echo \"Starting...\"\n",
    "\n",
    "/home/vavasileva3/psmc/psmc -p 12*1 $DIR/x12_0.fa > $DIR/x12_0.psmc\n",
    "#/home/vavasileva3/psmc/psmc -p 12*1 $DIR/x12_1.fa > $DIR/x12_1.psmc\n",
    "\n",
    "#/home/vavasileva3/psmc/psmc -p 20*1 $DIR/x20_0.fa > $DIR/x20_0.psmc\n",
    "#/home/vavasileva3/psmc/psmc -p 20*1 $DIR/x20_1.fa > $DIR/x20_1.psmc\n",
    "\n",
    "#/home/vavasileva3/psmc/psmc -p 64*1 $DIR/x64_0.fa > $DIR/x64_0.psmc\n",
    "#/home/vavasileva3/psmc/psmc -p 64*1 $DIR/x64_1.fa > $DIR/x64_1.psmc\n",
    "\n",
    "echo \"Ending...\"\n",
    "```"
   ]
  },
  {
   "cell_type": "markdown",
   "metadata": {},
   "source": [
    "## sbatch файл запуска 6 однотипных з адач из одного-скрипт файла\n",
    "\n",
    "**run_task_multiple.sbatch**\n",
    "```\n",
    "#!/bin/bash\n",
    "#SBATCH --job-name=psmc_task1\n",
    "#SBATCH --error=psmc_task-%j.err\n",
    "#SBATCH --output=psmc_task-%j.log\n",
    "#SBATCH --nodes=1\n",
    "#SBATCH -c 6\n",
    "\n",
    "PSMC_PATH=/home/vavasileva3/psmc\n",
    "\n",
    "DIR=/home/vavasileva3/task1\n",
    "\n",
    "echo \"Starting...\"\n",
    "\n",
    "/home/vavasileva3/psmc/psmc -p 12*1 $DIR/x12_0.fa > $DIR/x12_0.psmc 2>&1 &\n",
    "/home/vavasileva3/psmc/psmc -p 12*1 $DIR/x12_1.fa > $DIR/x12_1.psmc 2>&1 &\n",
    "\n",
    "/home/vavasileva3/psmc/psmc -p 20*1 $DIR/x20_0.fa > $DIR/x20_0.psmc 2>&1 &\n",
    "/home/vavasileva3/psmc/psmc -p 20*1 $DIR/x20_1.fa > $DIR/x20_1.psmc 2>&1 &\n",
    "\n",
    "/home/vavasileva3/psmc/psmc -p 64*1 $DIR/x64_0.fa > $DIR/x64_0.psmc 2>&1 &\n",
    "/home/vavasileva3/psmc/psmc -p 64*1 $DIR/x64_1.fa > $DIR/x64_1.psmc 2>&1 &\n",
    "\n",
    "#`/home/vavasileva3/psmc/psmc -p 12*1  $DIR/x12_0.fa > $DIR/x12_0.psmc`\n",
    "```"
   ]
  }
 ],
 "metadata": {
  "kernelspec": {
   "display_name": "Python 3",
   "language": "python",
   "name": "python3"
  },
  "language_info": {
   "codemirror_mode": {
    "name": "ipython",
    "version": 3
   },
   "file_extension": ".py",
   "mimetype": "text/x-python",
   "name": "python",
   "nbconvert_exporter": "python",
   "pygments_lexer": "ipython3",
   "version": "3.8.1"
  }
 },
 "nbformat": 4,
 "nbformat_minor": 4
}
